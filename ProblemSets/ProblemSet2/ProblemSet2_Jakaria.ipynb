{
 "cells": [
  {
   "cell_type": "markdown",
   "id": "1b2761c1",
   "metadata": {},
   "source": [
    "# Problem set 2 : Computational methods for Economists Fall-2021\n"
   ]
  },
  {
   "cell_type": "markdown",
   "id": "0185ddce",
   "metadata": {},
   "source": [
    "# Part 1: Standard Library"
   ]
  },
  {
   "cell_type": "markdown",
   "id": "1c1d3edb",
   "metadata": {},
   "source": [
    "# Problem 1"
   ]
  },
  {
   "cell_type": "code",
   "execution_count": 1,
   "id": "0dd90143",
   "metadata": {},
   "outputs": [
    {
     "name": "stdout",
     "output_type": "stream",
     "text": [
      "[100, 200, 300, 400, 500, 600, 700]\n"
     ]
    }
   ],
   "source": [
    "L = [100,200,300,400,500,600,700]\n",
    "print(L)"
   ]
  },
  {
   "cell_type": "code",
   "execution_count": 2,
   "id": "ea9b0897",
   "metadata": {},
   "outputs": [
    {
     "name": "stdout",
     "output_type": "stream",
     "text": [
      "(100, 700, 400.0)\n"
     ]
    }
   ],
   "source": [
    "def my_function(L):\n",
    "    return ((min(L)), (max(L)), sum (L)/len(L))\n",
    "print (my_function(L))\n"
   ]
  },
  {
   "cell_type": "markdown",
   "id": "ab991144",
   "metadata": {},
   "source": [
    "# Problem 2"
   ]
  },
  {
   "cell_type": "markdown",
   "id": "e8b22f5d",
   "metadata": {},
   "source": [
    "Integer:"
   ]
  },
  {
   "cell_type": "code",
   "execution_count": 3,
   "id": "e31b1383",
   "metadata": {},
   "outputs": [
    {
     "data": {
      "text/plain": [
       "False"
      ]
     },
     "execution_count": 3,
     "metadata": {},
     "output_type": "execute_result"
    }
   ],
   "source": [
    "int_1 = 50\n",
    "int_2 = int_1\n",
    "int_2 = 100\n",
    "int_1 == int_2\n"
   ]
  },
  {
   "cell_type": "markdown",
   "id": "6aa3e17f",
   "metadata": {},
   "source": [
    " Integers are not mutable since both objects are not same."
   ]
  },
  {
   "cell_type": "markdown",
   "id": "9d62ec2b",
   "metadata": {},
   "source": [
    "String:\n"
   ]
  },
  {
   "cell_type": "code",
   "execution_count": 4,
   "id": "6a1dcf76",
   "metadata": {},
   "outputs": [
    {
     "data": {
      "text/plain": [
       "False"
      ]
     },
     "execution_count": 4,
     "metadata": {},
     "output_type": "execute_result"
    }
   ],
   "source": [
    "str_1 = 'a'\n",
    "str_2 = str_1\n",
    "str_2 = 'b'\n",
    "str_1 == str_2\n"
   ]
  },
  {
   "cell_type": "markdown",
   "id": "b768e023",
   "metadata": {},
   "source": [
    "So strings are also immutable"
   ]
  },
  {
   "cell_type": "markdown",
   "id": "bce2c236",
   "metadata": {},
   "source": [
    "List:"
   ]
  },
  {
   "cell_type": "code",
   "execution_count": 5,
   "id": "144d483b",
   "metadata": {},
   "outputs": [
    {
     "data": {
      "text/plain": [
       "True"
      ]
     },
     "execution_count": 5,
     "metadata": {},
     "output_type": "execute_result"
    }
   ],
   "source": [
    "list_1 = [5, 10, 15, 'Micro', 'Macro']\n",
    "list_2 = list_1\n",
    "list_2[1] = 20\n",
    "list_1 == list_2"
   ]
  },
  {
   "cell_type": "markdown",
   "id": "24e4c051",
   "metadata": {},
   "source": [
    "lists are mutable since both objects are the same."
   ]
  },
  {
   "cell_type": "markdown",
   "id": "e3d1db1e",
   "metadata": {},
   "source": [
    "Tuple:"
   ]
  },
  {
   "cell_type": "code",
   "execution_count": 6,
   "id": "ab79dcea",
   "metadata": {},
   "outputs": [
    {
     "data": {
      "text/plain": [
       "False"
      ]
     },
     "execution_count": 6,
     "metadata": {},
     "output_type": "execute_result"
    }
   ],
   "source": [
    "tuple_1 = (5, 10, 15, 'Micro', 'Macro')\n",
    "tuple_2 = tuple_1\n",
    "tuple_2 += ('Economics',)\n",
    "tuple_1 == tuple_2"
   ]
  },
  {
   "cell_type": "markdown",
   "id": "d31ddf25",
   "metadata": {},
   "source": [
    "Tuples are immutable since the objects are not same."
   ]
  },
  {
   "cell_type": "markdown",
   "id": "d7755435",
   "metadata": {},
   "source": [
    "Set:"
   ]
  },
  {
   "cell_type": "code",
   "execution_count": 7,
   "id": "1c4e6fee",
   "metadata": {},
   "outputs": [
    {
     "data": {
      "text/plain": [
       "True"
      ]
     },
     "execution_count": 7,
     "metadata": {},
     "output_type": "execute_result"
    }
   ],
   "source": [
    "set_1 = {10, 20, 30, 'a' 'b'}\n",
    "set_2 = set_1\n",
    "set_2.remove(20)\n",
    "set_1==set_2"
   ]
  },
  {
   "cell_type": "markdown",
   "id": "5b0e254f",
   "metadata": {},
   "source": [
    "Set are mutable since both objects are the same."
   ]
  },
  {
   "cell_type": "markdown",
   "id": "2476eddf",
   "metadata": {},
   "source": [
    "# problem 3"
   ]
  },
  {
   "cell_type": "code",
   "execution_count": 8,
   "id": "6c4e2894",
   "metadata": {},
   "outputs": [],
   "source": [
    "import calculator as calc"
   ]
  },
  {
   "cell_type": "code",
   "execution_count": 9,
   "id": "db0d02b9",
   "metadata": {},
   "outputs": [],
   "source": [
    "from math import sqrt"
   ]
  },
  {
   "cell_type": "code",
   "execution_count": 10,
   "id": "61b22832",
   "metadata": {},
   "outputs": [],
   "source": [
    "def hyp(a, b):\n",
    "    return sqrt(calc.add(calc.multi(a, a), calc.multi(b, b)))"
   ]
  },
  {
   "cell_type": "code",
   "execution_count": 11,
   "id": "34e30826",
   "metadata": {},
   "outputs": [
    {
     "data": {
      "text/plain": [
       "13.0"
      ]
     },
     "execution_count": 11,
     "metadata": {},
     "output_type": "execute_result"
    }
   ],
   "source": [
    "hyp(5,12)"
   ]
  },
  {
   "cell_type": "markdown",
   "id": "72396eba",
   "metadata": {},
   "source": [
    "# Part 2 - Introductory to Numpy"
   ]
  },
  {
   "cell_type": "markdown",
   "id": "0a6c7410",
   "metadata": {},
   "source": [
    "# Problem 1"
   ]
  },
  {
   "cell_type": "code",
   "execution_count": 12,
   "id": "5b5876e6",
   "metadata": {},
   "outputs": [],
   "source": [
    "import numpy as np"
   ]
  },
  {
   "cell_type": "code",
   "execution_count": 13,
   "id": "92ef7cad",
   "metadata": {},
   "outputs": [],
   "source": [
    "def matproduct():\n",
    "    A = np.array( [ [3, -1, 4],[1, 5, -9] ] )\n",
    "    B = np.array([ [ 2, 6, -5, 3],[5, -8, 9, 7],[9, -3, -2, -3] ] )\n",
    "    \n",
    "    return A @ B"
   ]
  },
  {
   "cell_type": "code",
   "execution_count": 14,
   "id": "8d7a6649",
   "metadata": {},
   "outputs": [
    {
     "data": {
      "text/plain": [
       "array([[ 37,  14, -32, -10],\n",
       "       [-54,  -7,  58,  65]])"
      ]
     },
     "execution_count": 14,
     "metadata": {},
     "output_type": "execute_result"
    }
   ],
   "source": [
    "matproduct()"
   ]
  },
  {
   "cell_type": "markdown",
   "id": "a70b661b",
   "metadata": {},
   "source": [
    "# Problem 2"
   ]
  },
  {
   "cell_type": "code",
   "execution_count": 15,
   "id": "6356dc13",
   "metadata": {},
   "outputs": [],
   "source": [
    "def func():\n",
    "    A = np.array( [ [3, 1, 4],[1, 5, 9],[-5, 3, 1] ] )\n",
    "    \n",
    "    return -(A @ A @ A) + (9 * (A @ A)) - (15 * A)"
   ]
  },
  {
   "cell_type": "code",
   "execution_count": 16,
   "id": "47c12876",
   "metadata": {},
   "outputs": [
    {
     "data": {
      "text/plain": [
       "array([[0, 0, 0],\n",
       "       [0, 0, 0],\n",
       "       [0, 0, 0]])"
      ]
     },
     "execution_count": 16,
     "metadata": {},
     "output_type": "execute_result"
    }
   ],
   "source": [
    "func()"
   ]
  },
  {
   "cell_type": "markdown",
   "id": "5aa6f8c3",
   "metadata": {},
   "source": [
    "# Problem 5"
   ]
  },
  {
   "cell_type": "code",
   "execution_count": 17,
   "id": "8bd77d34",
   "metadata": {},
   "outputs": [],
   "source": [
    "import numpy as np\n",
    "def func():\n",
    "    A = np.array( [ [0, 2, 4], [1, 3, 5] ] )\n",
    "    B = np.array( [ [3, 0, 0], [3, 3, 0], [3, 3, 3] ] )\n",
    "    C = np.array( [ [-2, 0, 0], [0, -2, 0], [0, 0, -2] ] )\n",
    "    \n",
    "    row1 = np.column_stack((np.zeros((3,3)), A.T, np.eye(3)))\n",
    "    row2 = np.column_stack((A, np.zeros((2,2)), np.zeros_like(A)))\n",
    "    row3 = np.column_stack((B, np.zeros_like(A.T), C))\n",
    "    newfunc = np.concatenate((row1, row2, row3))\n",
    "    \n",
    "    return newfunc"
   ]
  },
  {
   "cell_type": "code",
   "execution_count": 18,
   "id": "a783cf34",
   "metadata": {},
   "outputs": [
    {
     "data": {
      "text/plain": [
       "array([[ 0.,  0.,  0.,  0.,  1.,  1.,  0.,  0.],\n",
       "       [ 0.,  0.,  0.,  2.,  3.,  0.,  1.,  0.],\n",
       "       [ 0.,  0.,  0.,  4.,  5.,  0.,  0.,  1.],\n",
       "       [ 0.,  2.,  4.,  0.,  0.,  0.,  0.,  0.],\n",
       "       [ 1.,  3.,  5.,  0.,  0.,  0.,  0.,  0.],\n",
       "       [ 3.,  0.,  0.,  0.,  0., -2.,  0.,  0.],\n",
       "       [ 3.,  3.,  0.,  0.,  0.,  0., -2.,  0.],\n",
       "       [ 3.,  3.,  3.,  0.,  0.,  0.,  0., -2.]])"
      ]
     },
     "execution_count": 18,
     "metadata": {},
     "output_type": "execute_result"
    }
   ],
   "source": [
    "func()"
   ]
  },
  {
   "cell_type": "markdown",
   "id": "4967e967",
   "metadata": {},
   "source": [
    "# Part 3 - Object-Oriented Programming"
   ]
  },
  {
   "cell_type": "markdown",
   "id": "5c7bcf50",
   "metadata": {},
   "source": [
    "# Problem 1"
   ]
  },
  {
   "cell_type": "code",
   "execution_count": 19,
   "id": "81b221ad",
   "metadata": {},
   "outputs": [],
   "source": [
    "#1. constructor modification\n",
    "class Backpack:\n",
    "    '''\n",
    "    A Backpack object class. Has a name, color,  list of contents, and maximum size of the contents.\n",
    "\n",
    "    Attributes:\n",
    "        name (str): the name of the backpack's owner.\n",
    "        color (str): the color of the backpack.\n",
    "        contents (list): the contents of the backpack.\n",
    "        max_size (int) : the maximum size/number of the contents.\n",
    "        \n",
    "\n",
    "    '''\n",
    "    def __init__(self, name, color, max_size = 5): # this function is the constructor.\n",
    "        \n",
    "        ''' Set the name, initialize an empty list of contents, set the color and\n",
    "        set a default maximum number of items.\n",
    "        \n",
    "        Parameters:\n",
    "            name (str): the name of the backpack's owner.\n",
    "            color (str): the color of the backpack.\n",
    "            max_size (int): the maximum number of items the backpack can contain.\n",
    "        '''\n",
    "\n",
    "        self.name = name\n",
    "        self.color = color\n",
    "        self.max_size = max_size\n",
    "        self.contents = []\n",
    "     \n",
    "    #2. modification of put() method\n",
    "    \n",
    "    def put(self, item):\n",
    "        \n",
    "        '''\n",
    "        Adds an item to the backpack.\n",
    "        \n",
    "        Args:\n",
    "            item (str): name of item to be added to the backpack\n",
    "            \n",
    "            Returns:\n",
    "            \"No Room!\" if there are already max_size items or more.\n",
    "        '''\n",
    "        \n",
    "        if len(self.contents) >= 5:\n",
    "            print(\"No room!\")\n",
    "        \n",
    "        else:\n",
    "            self.contents.append(item)\n",
    "    \n",
    "    def take(self, item):\n",
    "        '''\n",
    "        Takes an item out of the backpack.\n",
    "        \n",
    "        Args:\n",
    "            item (str): name of the item to be taken out of the backpack\n",
    "            \n",
    "        Returns:\n",
    "            Nothing\n",
    "        '''\n",
    "        self.contents.remove(item)\n",
    "    \n",
    "    #3. reset contents to an empty list\n",
    "    \n",
    "    def dump(self):\n",
    "        '''\n",
    "        Empties all of the contents of the backpack.\n",
    "        \n",
    "        Args:\n",
    "            None.\n",
    "        \n",
    "        Returns:\n",
    "            Nothing.\n",
    "        '''\n",
    "        self.contents = []"
   ]
  },
  {
   "cell_type": "code",
   "execution_count": 20,
   "id": "87c726e0",
   "metadata": {},
   "outputs": [],
   "source": [
    "def test_backpack():\n",
    "    testpack = Backpack(\"Barry\",\"black\")\n",
    "    if testpack.name != \"Barry\":\n",
    "        print(\"Backpack.name assigned incorrectly\")\n",
    "    for item in [\"pencil\", \"pen\", \"paper\", \"computer\"]:\n",
    "        testpack.put(item)\n",
    "    print(\"Contents:\", testpack.contents)"
   ]
  },
  {
   "cell_type": "code",
   "execution_count": 21,
   "id": "cf003c6b",
   "metadata": {},
   "outputs": [
    {
     "name": "stdout",
     "output_type": "stream",
     "text": [
      "Contents: ['pencil', 'pen', 'paper', 'computer']\n"
     ]
    }
   ],
   "source": [
    "test_backpack()"
   ]
  },
  {
   "cell_type": "markdown",
   "id": "0dfa5925",
   "metadata": {},
   "source": [
    "# Problem 2"
   ]
  },
  {
   "cell_type": "code",
   "execution_count": 22,
   "id": "f2fad632",
   "metadata": {},
   "outputs": [],
   "source": [
    "class Jetpack(Backpack):\n",
    "    '''\n",
    "    A Jetpack object class. Inherits from the Backpack class.\n",
    "\n",
    "    Attributes: \n",
    "        name (str): the name of the backpack's owner.\n",
    "        color (str): the color of the backpack.\n",
    "        max_size (int): the maximum number of items the backpack can contain.\n",
    "        contents (list): the contents of the backpack.\n",
    "        fuel (int): the amount of fuel in the tank.\n",
    "    '''\n",
    "    def __init__(self, name, color, max_size = 2, fuel=10 ):\n",
    "        '''\n",
    "        Set the name, initialize an empty list of contents, set a color, set a default\n",
    "        maximum number of items, and set a default amount of fuel.\n",
    "        \n",
    "        Args:\n",
    "            name (str): the name of the backpack's owner.\n",
    "            color (str): the color of the backpack.\n",
    "            max_size (int): the maximum number of items the backpack can contain (default = 2).\n",
    "            fuel (int): the amount of fuel in the tank (default =10).\n",
    "        '''\n",
    "        \n",
    "        Backpack.__init__(self, name, color, max_size)\n",
    "        self.fuel = fuel\n",
    "    \n",
    "    def fly(self, burned_fuel):\n",
    "        '''\n",
    "        Flies and burns fuel if there is enough fuel to burn the specified amount.\n",
    "        \n",
    "        Args:\n",
    "            burned_fuel (int): amount of fuel to be burned\n",
    "            \n",
    "        Returns:\n",
    "            \"Not enough fuel!\" if the amount entered is greater than the amount in the tank (i.e. \n",
    "            the number in \"fuel.\")\n",
    "        '''\n",
    "        if burned_fuel > self.fuel:\n",
    "            print(\"Not enough fuel!\")\n",
    "            \n",
    "       \n",
    "    def dump(self):\n",
    "        '''\n",
    "        Empties all the contents of the backpack and all of the fuel.\n",
    "        \n",
    "        Args:\n",
    "            None.\n",
    "        \n",
    "        Returns:\n",
    "            Nothing.\n",
    "        '''\n",
    "        self.contents = []\n",
    "        self.fuel = 0"
   ]
  },
  {
   "cell_type": "code",
   "execution_count": 23,
   "id": "3f0da12e",
   "metadata": {},
   "outputs": [],
   "source": [
    "def test_Jetpack():\n",
    "    testpack = Backpack(\"Barry\",\"black\")\n",
    "    if testpack.name != \"Barry\":\n",
    "        print(\"Backpack.name assigned incorrectly\")\n",
    "    for item in [\"pencil\", \"pen\", \"paper\", \"computer\"]:\n",
    "        testpack.put(item)\n",
    "    print(\"Contents:\", testpack.contents)"
   ]
  },
  {
   "cell_type": "code",
   "execution_count": 24,
   "id": "6d8cd65e",
   "metadata": {},
   "outputs": [
    {
     "name": "stdout",
     "output_type": "stream",
     "text": [
      "Contents: ['pencil', 'pen', 'paper', 'computer']\n"
     ]
    }
   ],
   "source": [
    "test_Jetpack()"
   ]
  },
  {
   "cell_type": "code",
   "execution_count": null,
   "id": "7cda4d9f",
   "metadata": {},
   "outputs": [],
   "source": []
  }
 ],
 "metadata": {
  "kernelspec": {
   "display_name": "Python 3",
   "language": "python",
   "name": "python3"
  },
  "language_info": {
   "codemirror_mode": {
    "name": "ipython",
    "version": 3
   },
   "file_extension": ".py",
   "mimetype": "text/x-python",
   "name": "python",
   "nbconvert_exporter": "python",
   "pygments_lexer": "ipython3",
   "version": "3.8.8"
  }
 },
 "nbformat": 4,
 "nbformat_minor": 5
}
